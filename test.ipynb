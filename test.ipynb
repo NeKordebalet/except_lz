{
 "cells": [
  {
   "cell_type": "code",
   "execution_count": 34,
   "id": "e6a0cc8f",
   "metadata": {},
   "outputs": [],
   "source": [
    "import pandas as pd\n",
    "class DF_excepts:\n",
    "    def __init__(self):\n",
    "        try:\n",
    "            self.df = pd.read_csv('var31.csv')\n",
    "        except FileNotFoundError:\n",
    "            print(\"Файл var3.csv отсутсвуют либо назавн иначе\")\n",
    "        except pd.errors.EmptyDataError:\n",
    "            print(\"Файл var3.csv пуст\")\n",
    "    def full_chek(self):\n",
    "        pass\n",
    "\n",
    "\n",
    "\n",
    "df = DF_excepts()\n",
    "df.full_chek()\n",
    "\n",
    "\n",
    "\n",
    "\n",
    "\n"
   ]
  },
  {
   "cell_type": "code",
   "execution_count": 36,
   "id": "746ad41f",
   "metadata": {},
   "outputs": [],
   "source": [
    "import pandas as pd\n",
    "DF = pd.read_csv(\"var31.csv\")"
   ]
  }
 ],
 "metadata": {
  "kernelspec": {
   "display_name": "Python 3",
   "language": "python",
   "name": "python3"
  },
  "language_info": {
   "codemirror_mode": {
    "name": "ipython",
    "version": 3
   },
   "file_extension": ".py",
   "mimetype": "text/x-python",
   "name": "python",
   "nbconvert_exporter": "python",
   "pygments_lexer": "ipython3",
   "version": "3.13.2"
  }
 },
 "nbformat": 4,
 "nbformat_minor": 5
}
